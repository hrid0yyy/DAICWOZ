{
 "cells": [
  {
   "cell_type": "code",
   "execution_count": 2,
   "metadata": {},
   "outputs": [],
   "source": [
    "import pandas as pd\n",
    "from pydub import AudioSegment\n",
    "import os"
   ]
  },
  {
   "cell_type": "markdown",
   "metadata": {},
   "source": [
    "Implementation Code For patient speech segmentation"
   ]
  },
  {
   "cell_type": "code",
   "execution_count": null,
   "metadata": {},
   "outputs": [
    {
     "name": "stdout",
     "output_type": "stream",
     "text": [
      "Processed interview 373.\n",
      "Interview 440 already processed. Skipping...\n",
      "Interview 459 already processed. Skipping...\n",
      "Interview 483 already processed. Skipping...\n",
      "Interview 490 already processed. Skipping...\n",
      "Interview 491 already processed. Skipping...\n",
      "Interview 492 already processed. Skipping...\n",
      "Missing files for interview Segmented. Skipping...\n"
     ]
    }
   ],
   "source": [
    "# Load processed.csv\n",
    "processed_df = pd.read_csv(\"processed.csv\")\n",
    "processed_ids = set(processed_df['id'].astype(str))\n",
    "\n",
    "# Directory containing interview folders\n",
    "interview_root = \"interviews\"\n",
    "\n",
    "# Loop through each interview folder\n",
    "for interview_id in os.listdir(interview_root):\n",
    "    if interview_id in processed_ids:\n",
    "        print(f\"Interview {interview_id} already processed. Skipping...\")\n",
    "        continue  # Already processed\n",
    "\n",
    "    transcript_path = os.path.join(interview_root, interview_id, f\"{interview_id}_TRANSCRIPT.csv\")\n",
    "    audio_path = os.path.join(interview_root, interview_id, f\"{interview_id}_AUDIO.wav\")\n",
    "    output_audio_path = os.path.join(\"Segmented\", f\"{interview_id}_PATIENT.wav\")\n",
    "\n",
    "    # Check if both files exist\n",
    "    if not (os.path.exists(transcript_path) and os.path.exists(audio_path)):\n",
    "        print(f\"Missing files for interview {interview_id}. Skipping...\")\n",
    "        continue\n",
    "\n",
    "    try:\n",
    "        # Load transcript\n",
    "        transcript = pd.read_csv(transcript_path, sep='\\t')\n",
    "        patient_segments = transcript[transcript[\"speaker\"] == \"Participant\"]\n",
    "\n",
    "        # Load full audio\n",
    "        audio = AudioSegment.from_wav(audio_path)\n",
    "\n",
    "        # Extract and combine patient segments\n",
    "        patient_audio = AudioSegment.silent()\n",
    "        for _, row in patient_segments.iterrows():\n",
    "            start_ms = int(row[\"start_time\"] * 1000)\n",
    "            stop_ms = int(row[\"stop_time\"] * 1000)\n",
    "            patient_audio += audio[start_ms:stop_ms]\n",
    "\n",
    "        # Export patient-only audio\n",
    "        patient_audio.export(output_audio_path, format=\"wav\")\n",
    "        print(f\"Processed interview {interview_id}.\")\n",
    "\n",
    "        # Optionally update processed.csv\n",
    "        processed_df.loc[len(processed_df)] = [interview_id]\n",
    "        processed_df.to_csv(\"processed.csv\", index=False)\n",
    "\n",
    "    except Exception as e:\n",
    "        print(f\"Error processing interview {interview_id}: {e}\")"
   ]
  }
 ],
 "metadata": {
  "kernelspec": {
   "display_name": "venv",
   "language": "python",
   "name": "python3"
  },
  "language_info": {
   "codemirror_mode": {
    "name": "ipython",
    "version": 3
   },
   "file_extension": ".py",
   "mimetype": "text/x-python",
   "name": "python",
   "nbconvert_exporter": "python",
   "pygments_lexer": "ipython3",
   "version": "3.11.9"
  }
 },
 "nbformat": 4,
 "nbformat_minor": 2
}
